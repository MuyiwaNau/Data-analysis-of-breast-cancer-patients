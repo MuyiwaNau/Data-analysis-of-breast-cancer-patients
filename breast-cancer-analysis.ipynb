{
 "cells": [
  {
   "cell_type": "code",
   "execution_count": 50,
   "id": "2bcf086b",
   "metadata": {
    "execution": {
     "iopub.execute_input": "2021-09-26T15:24:56.354227Z",
     "iopub.status.busy": "2021-09-26T15:24:56.351541Z",
     "iopub.status.idle": "2021-09-26T15:24:56.358447Z",
     "shell.execute_reply": "2021-09-26T15:24:56.357861Z",
     "shell.execute_reply.started": "2021-09-26T15:24:17.855043Z"
    },
    "papermill": {
     "duration": 0.089548,
     "end_time": "2021-09-26T15:24:56.358611",
     "exception": false,
     "start_time": "2021-09-26T15:24:56.269063",
     "status": "completed"
    },
    "tags": []
   },
   "outputs": [],
   "source": [
    "# first we import all our required libraries\n",
    "\n",
    "import pandas as pd\n",
    "import numpy as np\n",
    "import matplotlib.pyplot as plt"
   ]
  },
  {
   "cell_type": "code",
   "execution_count": 51,
   "id": "07609dc7",
   "metadata": {
    "execution": {
     "iopub.execute_input": "2021-09-26T15:24:56.512353Z",
     "iopub.status.busy": "2021-09-26T15:24:56.511712Z",
     "iopub.status.idle": "2021-09-26T15:24:56.530679Z",
     "shell.execute_reply": "2021-09-26T15:24:56.531134Z",
     "shell.execute_reply.started": "2021-09-26T15:24:17.862344Z"
    },
    "papermill": {
     "duration": 0.098125,
     "end_time": "2021-09-26T15:24:56.531311",
     "exception": false,
     "start_time": "2021-09-26T15:24:56.433186",
     "status": "completed"
    },
    "tags": []
   },
   "outputs": [],
   "source": [
    "bc = df = pd.read_csv(\"C:\\\\Users\\\\muski\\\\Desktop\\\\NewProject\\\\BreastCancer.csv\")"
   ]
  },
  {
   "cell_type": "code",
   "execution_count": 52,
   "id": "5cd4516e",
   "metadata": {
    "execution": {
     "iopub.execute_input": "2021-09-26T15:24:56.687979Z",
     "iopub.status.busy": "2021-09-26T15:24:56.687393Z",
     "iopub.status.idle": "2021-09-26T15:24:56.709244Z",
     "shell.execute_reply": "2021-09-26T15:24:56.709754Z",
     "shell.execute_reply.started": "2021-09-26T15:24:17.887442Z"
    },
    "papermill": {
     "duration": 0.104344,
     "end_time": "2021-09-26T15:24:56.709921",
     "exception": false,
     "start_time": "2021-09-26T15:24:56.605577",
     "status": "completed"
    },
    "tags": []
   },
   "outputs": [
    {
     "data": {
      "text/html": [
       "<div>\n",
       "<style scoped>\n",
       "    .dataframe tbody tr th:only-of-type {\n",
       "        vertical-align: middle;\n",
       "    }\n",
       "\n",
       "    .dataframe tbody tr th {\n",
       "        vertical-align: top;\n",
       "    }\n",
       "\n",
       "    .dataframe thead th {\n",
       "        text-align: right;\n",
       "    }\n",
       "</style>\n",
       "<table border=\"1\" class=\"dataframe\">\n",
       "  <thead>\n",
       "    <tr style=\"text-align: right;\">\n",
       "      <th></th>\n",
       "      <th>Patient_ID</th>\n",
       "      <th>Age</th>\n",
       "      <th>Gender</th>\n",
       "      <th>Protein1</th>\n",
       "      <th>Protein2</th>\n",
       "      <th>Protein3</th>\n",
       "      <th>Protein4</th>\n",
       "      <th>Tumour_Stage</th>\n",
       "      <th>Histology</th>\n",
       "      <th>ER status</th>\n",
       "      <th>PR status</th>\n",
       "      <th>HER2 status</th>\n",
       "      <th>Surgery_type</th>\n",
       "      <th>Date_of_Surgery</th>\n",
       "      <th>Date_of_Last_Visit</th>\n",
       "      <th>Patient_Status</th>\n",
       "    </tr>\n",
       "  </thead>\n",
       "  <tbody>\n",
       "    <tr>\n",
       "      <th>0</th>\n",
       "      <td>TCGA-D8-A1XD</td>\n",
       "      <td>36.0</td>\n",
       "      <td>FEMALE</td>\n",
       "      <td>0.080353</td>\n",
       "      <td>0.42638</td>\n",
       "      <td>0.54715</td>\n",
       "      <td>0.273680</td>\n",
       "      <td>III</td>\n",
       "      <td>Infiltrating Ductal Carcinoma</td>\n",
       "      <td>Positive</td>\n",
       "      <td>Positive</td>\n",
       "      <td>Negative</td>\n",
       "      <td>Modified Radical Mastectomy</td>\n",
       "      <td>15-Jan-17</td>\n",
       "      <td>19-Jun-17</td>\n",
       "      <td>Alive</td>\n",
       "    </tr>\n",
       "    <tr>\n",
       "      <th>1</th>\n",
       "      <td>TCGA-EW-A1OX</td>\n",
       "      <td>43.0</td>\n",
       "      <td>FEMALE</td>\n",
       "      <td>-0.420320</td>\n",
       "      <td>0.57807</td>\n",
       "      <td>0.61447</td>\n",
       "      <td>-0.031505</td>\n",
       "      <td>II</td>\n",
       "      <td>Mucinous Carcinoma</td>\n",
       "      <td>Positive</td>\n",
       "      <td>Positive</td>\n",
       "      <td>Negative</td>\n",
       "      <td>Lumpectomy</td>\n",
       "      <td>26-Apr-17</td>\n",
       "      <td>09-Nov-18</td>\n",
       "      <td>Dead</td>\n",
       "    </tr>\n",
       "    <tr>\n",
       "      <th>2</th>\n",
       "      <td>TCGA-A8-A079</td>\n",
       "      <td>69.0</td>\n",
       "      <td>FEMALE</td>\n",
       "      <td>0.213980</td>\n",
       "      <td>1.31140</td>\n",
       "      <td>-0.32747</td>\n",
       "      <td>-0.234260</td>\n",
       "      <td>III</td>\n",
       "      <td>Infiltrating Ductal Carcinoma</td>\n",
       "      <td>Positive</td>\n",
       "      <td>Positive</td>\n",
       "      <td>Negative</td>\n",
       "      <td>Other</td>\n",
       "      <td>08-Sep-17</td>\n",
       "      <td>09-Jun-18</td>\n",
       "      <td>Alive</td>\n",
       "    </tr>\n",
       "    <tr>\n",
       "      <th>3</th>\n",
       "      <td>TCGA-D8-A1XR</td>\n",
       "      <td>56.0</td>\n",
       "      <td>FEMALE</td>\n",
       "      <td>0.345090</td>\n",
       "      <td>-0.21147</td>\n",
       "      <td>-0.19304</td>\n",
       "      <td>0.124270</td>\n",
       "      <td>II</td>\n",
       "      <td>Infiltrating Ductal Carcinoma</td>\n",
       "      <td>Positive</td>\n",
       "      <td>Positive</td>\n",
       "      <td>Negative</td>\n",
       "      <td>Modified Radical Mastectomy</td>\n",
       "      <td>25-Jan-17</td>\n",
       "      <td>12-Jul-17</td>\n",
       "      <td>Alive</td>\n",
       "    </tr>\n",
       "    <tr>\n",
       "      <th>4</th>\n",
       "      <td>TCGA-BH-A0BF</td>\n",
       "      <td>56.0</td>\n",
       "      <td>FEMALE</td>\n",
       "      <td>0.221550</td>\n",
       "      <td>1.90680</td>\n",
       "      <td>0.52045</td>\n",
       "      <td>-0.311990</td>\n",
       "      <td>II</td>\n",
       "      <td>Infiltrating Ductal Carcinoma</td>\n",
       "      <td>Positive</td>\n",
       "      <td>Positive</td>\n",
       "      <td>Negative</td>\n",
       "      <td>Other</td>\n",
       "      <td>06-May-17</td>\n",
       "      <td>27-Jun-19</td>\n",
       "      <td>Dead</td>\n",
       "    </tr>\n",
       "  </tbody>\n",
       "</table>\n",
       "</div>"
      ],
      "text/plain": [
       "     Patient_ID   Age  Gender  Protein1  Protein2  Protein3  Protein4  \\\n",
       "0  TCGA-D8-A1XD  36.0  FEMALE  0.080353   0.42638   0.54715  0.273680   \n",
       "1  TCGA-EW-A1OX  43.0  FEMALE -0.420320   0.57807   0.61447 -0.031505   \n",
       "2  TCGA-A8-A079  69.0  FEMALE  0.213980   1.31140  -0.32747 -0.234260   \n",
       "3  TCGA-D8-A1XR  56.0  FEMALE  0.345090  -0.21147  -0.19304  0.124270   \n",
       "4  TCGA-BH-A0BF  56.0  FEMALE  0.221550   1.90680   0.52045 -0.311990   \n",
       "\n",
       "  Tumour_Stage                      Histology ER status PR status HER2 status  \\\n",
       "0          III  Infiltrating Ductal Carcinoma  Positive  Positive    Negative   \n",
       "1           II             Mucinous Carcinoma  Positive  Positive    Negative   \n",
       "2          III  Infiltrating Ductal Carcinoma  Positive  Positive    Negative   \n",
       "3           II  Infiltrating Ductal Carcinoma  Positive  Positive    Negative   \n",
       "4           II  Infiltrating Ductal Carcinoma  Positive  Positive    Negative   \n",
       "\n",
       "                  Surgery_type Date_of_Surgery Date_of_Last_Visit  \\\n",
       "0  Modified Radical Mastectomy       15-Jan-17          19-Jun-17   \n",
       "1                   Lumpectomy       26-Apr-17          09-Nov-18   \n",
       "2                        Other       08-Sep-17          09-Jun-18   \n",
       "3  Modified Radical Mastectomy       25-Jan-17          12-Jul-17   \n",
       "4                        Other       06-May-17          27-Jun-19   \n",
       "\n",
       "  Patient_Status  \n",
       "0          Alive  \n",
       "1           Dead  \n",
       "2          Alive  \n",
       "3          Alive  \n",
       "4           Dead  "
      ]
     },
     "execution_count": 52,
     "metadata": {},
     "output_type": "execute_result"
    }
   ],
   "source": [
    "bc.head()"
   ]
  },
  {
   "cell_type": "code",
   "execution_count": 53,
   "id": "2ae62e17",
   "metadata": {
    "execution": {
     "iopub.execute_input": "2021-09-26T15:24:56.871257Z",
     "iopub.status.busy": "2021-09-26T15:24:56.869359Z",
     "iopub.status.idle": "2021-09-26T15:24:56.873459Z",
     "shell.execute_reply": "2021-09-26T15:24:56.873851Z",
     "shell.execute_reply.started": "2021-09-26T15:24:17.910508Z"
    },
    "papermill": {
     "duration": 0.087748,
     "end_time": "2021-09-26T15:24:56.874016",
     "exception": false,
     "start_time": "2021-09-26T15:24:56.786268",
     "status": "completed"
    },
    "tags": []
   },
   "outputs": [],
   "source": [
    "bc.dropna(inplace = True)"
   ]
  },
  {
   "cell_type": "markdown",
   "id": "7761f547",
   "metadata": {
    "papermill": {
     "duration": 0.074873,
     "end_time": "2021-09-26T15:24:57.024299",
     "exception": false,
     "start_time": "2021-09-26T15:24:56.949426",
     "status": "completed"
    },
    "tags": []
   },
   "source": [
    "We check out the statistical measurements of our data at a glance."
   ]
  },
  {
   "cell_type": "code",
   "execution_count": 54,
   "id": "3d6fade9",
   "metadata": {
    "execution": {
     "iopub.execute_input": "2021-09-26T15:24:57.181612Z",
     "iopub.status.busy": "2021-09-26T15:24:57.178978Z",
     "iopub.status.idle": "2021-09-26T15:24:57.184709Z",
     "shell.execute_reply": "2021-09-26T15:24:57.185161Z",
     "shell.execute_reply.started": "2021-09-26T15:24:17.924325Z"
    },
    "papermill": {
     "duration": 0.085556,
     "end_time": "2021-09-26T15:24:57.185341",
     "exception": false,
     "start_time": "2021-09-26T15:24:57.099785",
     "status": "completed"
    },
    "tags": []
   },
   "outputs": [
    {
     "data": {
      "text/plain": [
       "(317, 16)"
      ]
     },
     "execution_count": 54,
     "metadata": {},
     "output_type": "execute_result"
    }
   ],
   "source": [
    "bc.shape"
   ]
  },
  {
   "cell_type": "code",
   "execution_count": 55,
   "id": "5cf6c6c7",
   "metadata": {
    "execution": {
     "iopub.execute_input": "2021-09-26T15:24:57.358066Z",
     "iopub.status.busy": "2021-09-26T15:24:57.354770Z",
     "iopub.status.idle": "2021-09-26T15:24:57.371440Z",
     "shell.execute_reply": "2021-09-26T15:24:57.370956Z",
     "shell.execute_reply.started": "2021-09-26T15:24:17.932074Z"
    },
    "papermill": {
     "duration": 0.110018,
     "end_time": "2021-09-26T15:24:57.371581",
     "exception": false,
     "start_time": "2021-09-26T15:24:57.261563",
     "status": "completed"
    },
    "tags": []
   },
   "outputs": [
    {
     "data": {
      "text/html": [
       "<div>\n",
       "<style scoped>\n",
       "    .dataframe tbody tr th:only-of-type {\n",
       "        vertical-align: middle;\n",
       "    }\n",
       "\n",
       "    .dataframe tbody tr th {\n",
       "        vertical-align: top;\n",
       "    }\n",
       "\n",
       "    .dataframe thead th {\n",
       "        text-align: right;\n",
       "    }\n",
       "</style>\n",
       "<table border=\"1\" class=\"dataframe\">\n",
       "  <thead>\n",
       "    <tr style=\"text-align: right;\">\n",
       "      <th></th>\n",
       "      <th>Age</th>\n",
       "      <th>Protein1</th>\n",
       "      <th>Protein2</th>\n",
       "      <th>Protein3</th>\n",
       "      <th>Protein4</th>\n",
       "    </tr>\n",
       "  </thead>\n",
       "  <tbody>\n",
       "    <tr>\n",
       "      <th>count</th>\n",
       "      <td>317.000000</td>\n",
       "      <td>317.000000</td>\n",
       "      <td>317.000000</td>\n",
       "      <td>317.000000</td>\n",
       "      <td>317.000000</td>\n",
       "    </tr>\n",
       "    <tr>\n",
       "      <th>mean</th>\n",
       "      <td>58.725552</td>\n",
       "      <td>-0.027232</td>\n",
       "      <td>0.949557</td>\n",
       "      <td>-0.095104</td>\n",
       "      <td>0.006713</td>\n",
       "    </tr>\n",
       "    <tr>\n",
       "      <th>std</th>\n",
       "      <td>12.827374</td>\n",
       "      <td>0.543858</td>\n",
       "      <td>0.906153</td>\n",
       "      <td>0.589027</td>\n",
       "      <td>0.625965</td>\n",
       "    </tr>\n",
       "    <tr>\n",
       "      <th>min</th>\n",
       "      <td>29.000000</td>\n",
       "      <td>-2.144600</td>\n",
       "      <td>-0.978730</td>\n",
       "      <td>-1.627400</td>\n",
       "      <td>-2.025500</td>\n",
       "    </tr>\n",
       "    <tr>\n",
       "      <th>25%</th>\n",
       "      <td>49.000000</td>\n",
       "      <td>-0.350600</td>\n",
       "      <td>0.368840</td>\n",
       "      <td>-0.531360</td>\n",
       "      <td>-0.382240</td>\n",
       "    </tr>\n",
       "    <tr>\n",
       "      <th>50%</th>\n",
       "      <td>58.000000</td>\n",
       "      <td>0.005649</td>\n",
       "      <td>0.997130</td>\n",
       "      <td>-0.193040</td>\n",
       "      <td>0.038522</td>\n",
       "    </tr>\n",
       "    <tr>\n",
       "      <th>75%</th>\n",
       "      <td>67.000000</td>\n",
       "      <td>0.336260</td>\n",
       "      <td>1.612000</td>\n",
       "      <td>0.251210</td>\n",
       "      <td>0.436250</td>\n",
       "    </tr>\n",
       "    <tr>\n",
       "      <th>max</th>\n",
       "      <td>90.000000</td>\n",
       "      <td>1.593600</td>\n",
       "      <td>3.402200</td>\n",
       "      <td>2.193400</td>\n",
       "      <td>1.629900</td>\n",
       "    </tr>\n",
       "  </tbody>\n",
       "</table>\n",
       "</div>"
      ],
      "text/plain": [
       "              Age    Protein1    Protein2    Protein3    Protein4\n",
       "count  317.000000  317.000000  317.000000  317.000000  317.000000\n",
       "mean    58.725552   -0.027232    0.949557   -0.095104    0.006713\n",
       "std     12.827374    0.543858    0.906153    0.589027    0.625965\n",
       "min     29.000000   -2.144600   -0.978730   -1.627400   -2.025500\n",
       "25%     49.000000   -0.350600    0.368840   -0.531360   -0.382240\n",
       "50%     58.000000    0.005649    0.997130   -0.193040    0.038522\n",
       "75%     67.000000    0.336260    1.612000    0.251210    0.436250\n",
       "max     90.000000    1.593600    3.402200    2.193400    1.629900"
      ]
     },
     "execution_count": 55,
     "metadata": {},
     "output_type": "execute_result"
    }
   ],
   "source": [
    "bc.describe()"
   ]
  },
  {
   "cell_type": "markdown",
   "id": "0682f46e",
   "metadata": {
    "papermill": {
     "duration": 0.075874,
     "end_time": "2021-09-26T15:24:57.523661",
     "exception": false,
     "start_time": "2021-09-26T15:24:57.447787",
     "status": "completed"
    },
    "tags": []
   },
   "source": [
    "We can also see the attributes of our dataset:"
   ]
  },
  {
   "cell_type": "code",
   "execution_count": 56,
   "id": "a9674d49",
   "metadata": {
    "execution": {
     "iopub.execute_input": "2021-09-26T15:24:57.680577Z",
     "iopub.status.busy": "2021-09-26T15:24:57.679634Z",
     "iopub.status.idle": "2021-09-26T15:24:57.687526Z",
     "shell.execute_reply": "2021-09-26T15:24:57.686888Z",
     "shell.execute_reply.started": "2021-09-26T15:24:17.971477Z"
    },
    "papermill": {
     "duration": 0.088122,
     "end_time": "2021-09-26T15:24:57.687684",
     "exception": false,
     "start_time": "2021-09-26T15:24:57.599562",
     "status": "completed"
    },
    "tags": []
   },
   "outputs": [
    {
     "name": "stdout",
     "output_type": "stream",
     "text": [
      "The attributes of the dataset are:\n",
      "\n",
      "-- Patient_ID\n",
      "-- Age\n",
      "-- Gender\n",
      "-- Protein1\n",
      "-- Protein2\n",
      "-- Protein3\n",
      "-- Protein4\n",
      "-- Tumour_Stage\n",
      "-- Histology\n",
      "-- ER status\n",
      "-- PR status\n",
      "-- HER2 status\n",
      "-- Surgery_type\n",
      "-- Date_of_Surgery\n",
      "-- Date_of_Last_Visit\n",
      "-- Patient_Status\n"
     ]
    }
   ],
   "source": [
    "print('The attributes of the dataset are:\\n')\n",
    "for txt in bc.columns:\n",
    "    print('--', txt)"
   ]
  },
  {
   "cell_type": "markdown",
   "id": "3a3b652c",
   "metadata": {
    "papermill": {
     "duration": 0.077335,
     "end_time": "2021-09-26T15:24:57.862013",
     "exception": false,
     "start_time": "2021-09-26T15:24:57.784678",
     "status": "completed"
    },
    "tags": []
   },
   "source": [
    "## Gender distribution in dataset"
   ]
  },
  {
   "cell_type": "markdown",
   "id": "0d90f4e6",
   "metadata": {
    "papermill": {
     "duration": 0.075584,
     "end_time": "2021-09-26T15:24:58.013816",
     "exception": false,
     "start_time": "2021-09-26T15:24:57.938232",
     "status": "completed"
    },
    "tags": []
   },
   "source": [
    "The first thing we do is to see how many male vs female patients we have:"
   ]
  },
  {
   "cell_type": "code",
   "execution_count": 57,
   "id": "e5c52979",
   "metadata": {
    "execution": {
     "iopub.execute_input": "2021-09-26T15:24:58.174331Z",
     "iopub.status.busy": "2021-09-26T15:24:58.173712Z",
     "iopub.status.idle": "2021-09-26T15:24:58.184101Z",
     "shell.execute_reply": "2021-09-26T15:24:58.183638Z",
     "shell.execute_reply.started": "2021-09-26T15:24:17.980147Z"
    },
    "papermill": {
     "duration": 0.09462,
     "end_time": "2021-09-26T15:24:58.184239",
     "exception": false,
     "start_time": "2021-09-26T15:24:58.089619",
     "status": "completed"
    },
    "tags": []
   },
   "outputs": [],
   "source": [
    "gen = (\n",
    "    bc\n",
    "    .groupby('Gender', as_index = False)\n",
    "    .agg(Total = ('Age', 'count'))\n",
    ")"
   ]
  },
  {
   "cell_type": "code",
   "execution_count": 58,
   "id": "6a4caa17",
   "metadata": {
    "execution": {
     "iopub.execute_input": "2021-09-26T15:24:58.345319Z",
     "iopub.status.busy": "2021-09-26T15:24:58.344471Z",
     "iopub.status.idle": "2021-09-26T15:24:58.346793Z",
     "shell.execute_reply": "2021-09-26T15:24:58.347218Z",
     "shell.execute_reply.started": "2021-09-26T15:24:18.003789Z"
    },
    "papermill": {
     "duration": 0.084969,
     "end_time": "2021-09-26T15:24:58.347399",
     "exception": false,
     "start_time": "2021-09-26T15:24:58.262430",
     "status": "completed"
    },
    "tags": []
   },
   "outputs": [],
   "source": [
    "gen['Percentage'] = (gen['Total']/gen['Total'].sum()) * 100"
   ]
  },
  {
   "cell_type": "code",
   "execution_count": 59,
   "id": "ad5fce4a",
   "metadata": {
    "execution": {
     "iopub.execute_input": "2021-09-26T15:24:58.507604Z",
     "iopub.status.busy": "2021-09-26T15:24:58.506880Z",
     "iopub.status.idle": "2021-09-26T15:24:58.510354Z",
     "shell.execute_reply": "2021-09-26T15:24:58.509800Z",
     "shell.execute_reply.started": "2021-09-26T15:24:18.011657Z"
    },
    "papermill": {
     "duration": 0.087184,
     "end_time": "2021-09-26T15:24:58.510483",
     "exception": false,
     "start_time": "2021-09-26T15:24:58.423299",
     "status": "completed"
    },
    "tags": []
   },
   "outputs": [
    {
     "data": {
      "text/html": [
       "<div>\n",
       "<style scoped>\n",
       "    .dataframe tbody tr th:only-of-type {\n",
       "        vertical-align: middle;\n",
       "    }\n",
       "\n",
       "    .dataframe tbody tr th {\n",
       "        vertical-align: top;\n",
       "    }\n",
       "\n",
       "    .dataframe thead th {\n",
       "        text-align: right;\n",
       "    }\n",
       "</style>\n",
       "<table border=\"1\" class=\"dataframe\">\n",
       "  <thead>\n",
       "    <tr style=\"text-align: right;\">\n",
       "      <th></th>\n",
       "      <th>Gender</th>\n",
       "      <th>Total</th>\n",
       "      <th>Percentage</th>\n",
       "    </tr>\n",
       "  </thead>\n",
       "  <tbody>\n",
       "    <tr>\n",
       "      <th>0</th>\n",
       "      <td>FEMALE</td>\n",
       "      <td>313</td>\n",
       "      <td>98.73817</td>\n",
       "    </tr>\n",
       "    <tr>\n",
       "      <th>1</th>\n",
       "      <td>MALE</td>\n",
       "      <td>4</td>\n",
       "      <td>1.26183</td>\n",
       "    </tr>\n",
       "  </tbody>\n",
       "</table>\n",
       "</div>"
      ],
      "text/plain": [
       "   Gender  Total  Percentage\n",
       "0  FEMALE    313    98.73817\n",
       "1    MALE      4     1.26183"
      ]
     },
     "execution_count": 59,
     "metadata": {},
     "output_type": "execute_result"
    }
   ],
   "source": [
    "gen"
   ]
  },
  {
   "cell_type": "code",
   "execution_count": 60,
   "id": "f68c30eb",
   "metadata": {
    "execution": {
     "iopub.execute_input": "2021-09-26T15:24:58.731192Z",
     "iopub.status.busy": "2021-09-26T15:24:58.730497Z",
     "iopub.status.idle": "2021-09-26T15:24:58.856733Z",
     "shell.execute_reply": "2021-09-26T15:24:58.856249Z",
     "shell.execute_reply.started": "2021-09-26T15:24:18.031331Z"
    },
    "papermill": {
     "duration": 0.269558,
     "end_time": "2021-09-26T15:24:58.856868",
     "exception": false,
     "start_time": "2021-09-26T15:24:58.587310",
     "status": "completed"
    },
    "tags": []
   },
   "outputs": [
    {
     "data": {
      "image/png": "[encoded data removed]",
      "text/plain": [
       "<Figure size 500x700 with 1 Axes>"
      ]
     },
     "metadata": {},
     "output_type": "display_data"
    }
   ],
   "source": [
    "plt.figure(figsize = (5,7))\n",
    "gen_bar = plt.bar(gen['Gender'], gen['Total'])\n",
    "plt.yticks(np.arange(0,400,50))\n",
    "plt.bar_label(gen_bar, labels = ['{} ({:.2f}%)'.format(t,p) for t,p in zip(gen['Total'],gen['Percentage'])], padding = 3)\n",
    "plt.xlabel('Gender')\n",
    "plt.ylabel('No. of cases')\n",
    "plt.title('No. of cases by gender')\n",
    "plt.show()"
   ]
  },
  {
   "cell_type": "markdown",
   "id": "304887d9",
   "metadata": {
    "papermill": {
     "duration": 0.077783,
     "end_time": "2021-09-26T15:24:59.012677",
     "exception": false,
     "start_time": "2021-09-26T15:24:58.934894",
     "status": "completed"
    },
    "tags": []
   },
   "source": [
    "We see from above that there are only **four male cancer patients** or **1.26%** of the total, as opposed to **313 female cancer patients** or **98.74%** of the total, in the dataset. This could make any analysis of males vs females problematic, as we would need a sample size of >4 in order to generate any significant results."
   ]
  },
  {
   "cell_type": "markdown",
   "id": "f6438438",
   "metadata": {
    "papermill": {
     "duration": 0.077322,
     "end_time": "2021-09-26T15:24:59.167467",
     "exception": false,
     "start_time": "2021-09-26T15:24:59.090145",
     "status": "completed"
    },
    "tags": []
   },
   "source": [
    "## Age distribution in dataset"
   ]
  },
  {
   "cell_type": "markdown",
   "id": "61010fed",
   "metadata": {
    "papermill": {
     "duration": 0.077749,
     "end_time": "2021-09-26T15:24:59.323679",
     "exception": false,
     "start_time": "2021-09-26T15:24:59.245930",
     "status": "completed"
    },
    "tags": []
   },
   "source": [
    "We can also look at the age ranges in our dataset to get a feel for its distribution. For this, we can construct a histogram:"
   ]
  },
  {
   "cell_type": "code",
   "execution_count": 61,
   "id": "ce4e6eb1",
   "metadata": {
    "execution": {
     "iopub.execute_input": "2021-09-26T15:24:59.505591Z",
     "iopub.status.busy": "2021-09-26T15:24:59.503208Z",
     "iopub.status.idle": "2021-09-26T15:24:59.683963Z",
     "shell.execute_reply": "2021-09-26T15:24:59.683377Z",
     "shell.execute_reply.started": "2021-09-26T15:24:18.168667Z"
    },
    "papermill": {
     "duration": 0.283299,
     "end_time": "2021-09-26T15:24:59.684093",
     "exception": false,
     "start_time": "2021-09-26T15:24:59.400794",
     "status": "completed"
    },
    "tags": []
   },
   "outputs": [
    {
     "data": {
      "image/png": "[encoded data removed]",
      "text/plain": [
       "<Figure size 800x500 with 1 Axes>"
      ]
     },
     "metadata": {},
     "output_type": "display_data"
    }
   ],
   "source": [
    "bins = list(range(20,105,5))\n",
    "\n",
    "plt.figure(figsize = (8,5))\n",
    "plt.hist(bc['Age'].astype(int), width = 4, align = 'mid', bins = bins, color = 'red', edgecolor = 'black')\n",
    "plt.xticks(bins)\n",
    "plt.xlabel('Ages')\n",
    "plt.title('Age range in dataset')\n",
    "plt.yticks(np.arange(0,65,5))\n",
    "plt.show()"
   ]
  },
  {
   "cell_type": "markdown",
   "id": "9ac59da1",
   "metadata": {
    "papermill": {
     "duration": 0.077042,
     "end_time": "2021-09-26T15:24:59.839006",
     "exception": false,
     "start_time": "2021-09-26T15:24:59.761964",
     "status": "completed"
    },
    "tags": []
   },
   "source": [
    "## Number of cases by cancer type"
   ]
  },
  {
   "cell_type": "markdown",
   "id": "65bcece7",
   "metadata": {
    "papermill": {
     "duration": 0.077606,
     "end_time": "2021-09-26T15:24:59.995395",
     "exception": false,
     "start_time": "2021-09-26T15:24:59.917789",
     "status": "completed"
    },
    "tags": []
   },
   "source": [
    "The first thing we need to do beyond looking at the initial statistics of the dataset, is to calculate the number of cases by cancer type. In the dataset, the cancer type is given under the column 'Histology'."
   ]
  },
  {
   "cell_type": "code",
   "execution_count": 62,
   "id": "f2e295bc",
   "metadata": {
    "execution": {
     "iopub.execute_input": "2021-09-26T15:25:00.158799Z",
     "iopub.status.busy": "2021-09-26T15:25:00.157920Z",
     "iopub.status.idle": "2021-09-26T15:25:00.160883Z",
     "shell.execute_reply": "2021-09-26T15:25:00.160402Z",
     "shell.execute_reply.started": "2021-09-26T15:24:18.409755Z"
    },
    "papermill": {
     "duration": 0.087868,
     "end_time": "2021-09-26T15:25:00.161023",
     "exception": false,
     "start_time": "2021-09-26T15:25:00.073155",
     "status": "completed"
    },
    "tags": []
   },
   "outputs": [],
   "source": [
    "cancer_types_total = bc.groupby('Histology', as_index = False)['Age'].count()"
   ]
  },
  {
   "cell_type": "code",
   "execution_count": 63,
   "id": "f9cbf21c",
   "metadata": {
    "execution": {
     "iopub.execute_input": "2021-09-26T15:25:00.323211Z",
     "iopub.status.busy": "2021-09-26T15:25:00.322622Z",
     "iopub.status.idle": "2021-09-26T15:25:00.326785Z",
     "shell.execute_reply": "2021-09-26T15:25:00.326259Z",
     "shell.execute_reply.started": "2021-09-26T15:24:18.418971Z"
    },
    "papermill": {
     "duration": 0.087548,
     "end_time": "2021-09-26T15:25:00.326916",
     "exception": false,
     "start_time": "2021-09-26T15:25:00.239368",
     "status": "completed"
    },
    "tags": []
   },
   "outputs": [],
   "source": [
    "cancer_types_total.rename(columns = {'Age': 'Total_Number'}, inplace = True)"
   ]
  },
  {
   "cell_type": "code",
   "execution_count": 64,
   "id": "5d539b28",
   "metadata": {
    "execution": {
     "iopub.execute_input": "2021-09-26T15:25:00.488781Z",
     "iopub.status.busy": "2021-09-26T15:25:00.487887Z",
     "iopub.status.idle": "2021-09-26T15:25:00.490884Z",
     "shell.execute_reply": "2021-09-26T15:25:00.490412Z",
     "shell.execute_reply.started": "2021-09-26T15:24:18.432702Z"
    },
    "papermill": {
     "duration": 0.086089,
     "end_time": "2021-09-26T15:25:00.491020",
     "exception": false,
     "start_time": "2021-09-26T15:25:00.404931",
     "status": "completed"
    },
    "tags": []
   },
   "outputs": [],
   "source": [
    "# for scaling, we get the percentage of total cases for each type of case\n",
    "totals_of_dataset = []\n",
    "for hist, num in zip(cancer_types_total['Histology'], cancer_types_total['Total_Number']):\n",
    "    answer = (num/bc.shape[0]) * 100\n",
    "    totals_of_dataset.append(answer)"
   ]
  },
  {
   "cell_type": "code",
   "execution_count": 65,
   "id": "f717fc03",
   "metadata": {
    "execution": {
     "iopub.execute_input": "2021-09-26T15:25:00.653043Z",
     "iopub.status.busy": "2021-09-26T15:25:00.652354Z",
     "iopub.status.idle": "2021-09-26T15:25:00.654970Z",
     "shell.execute_reply": "2021-09-26T15:25:00.654544Z",
     "shell.execute_reply.started": "2021-09-26T15:24:18.452113Z"
    },
    "papermill": {
     "duration": 0.085873,
     "end_time": "2021-09-26T15:25:00.655099",
     "exception": false,
     "start_time": "2021-09-26T15:25:00.569226",
     "status": "completed"
    },
    "tags": []
   },
   "outputs": [],
   "source": [
    "cancer_types_total['Percentage'] = totals_of_dataset"
   ]
  },
  {
   "cell_type": "code",
   "execution_count": 66,
   "id": "c0f4d444",
   "metadata": {
    "execution": {
     "iopub.execute_input": "2021-09-26T15:25:00.821564Z",
     "iopub.status.busy": "2021-09-26T15:25:00.820764Z",
     "iopub.status.idle": "2021-09-26T15:25:00.824325Z",
     "shell.execute_reply": "2021-09-26T15:25:00.823859Z",
     "shell.execute_reply.started": "2021-09-26T15:24:18.459651Z"
    },
    "papermill": {
     "duration": 0.090919,
     "end_time": "2021-09-26T15:25:00.824463",
     "exception": false,
     "start_time": "2021-09-26T15:25:00.733544",
     "status": "completed"
    },
    "tags": []
   },
   "outputs": [
    {
     "data": {
      "text/html": [
       "<div>\n",
       "<style scoped>\n",
       "    .dataframe tbody tr th:only-of-type {\n",
       "        vertical-align: middle;\n",
       "    }\n",
       "\n",
       "    .dataframe tbody tr th {\n",
       "        vertical-align: top;\n",
       "    }\n",
       "\n",
       "    .dataframe thead th {\n",
       "        text-align: right;\n",
       "    }\n",
       "</style>\n",
       "<table border=\"1\" class=\"dataframe\">\n",
       "  <thead>\n",
       "    <tr style=\"text-align: right;\">\n",
       "      <th></th>\n",
       "      <th>Histology</th>\n",
       "      <th>Total_Number</th>\n",
       "      <th>Percentage</th>\n",
       "    </tr>\n",
       "  </thead>\n",
       "  <tbody>\n",
       "    <tr>\n",
       "      <th>0</th>\n",
       "      <td>Infiltrating Ductal Carcinoma</td>\n",
       "      <td>224</td>\n",
       "      <td>70.662461</td>\n",
       "    </tr>\n",
       "    <tr>\n",
       "      <th>1</th>\n",
       "      <td>Infiltrating Lobular Carcinoma</td>\n",
       "      <td>81</td>\n",
       "      <td>25.552050</td>\n",
       "    </tr>\n",
       "    <tr>\n",
       "      <th>2</th>\n",
       "      <td>Mucinous Carcinoma</td>\n",
       "      <td>12</td>\n",
       "      <td>3.785489</td>\n",
       "    </tr>\n",
       "  </tbody>\n",
       "</table>\n",
       "</div>"
      ],
      "text/plain": [
       "                        Histology  Total_Number  Percentage\n",
       "0   Infiltrating Ductal Carcinoma           224   70.662461\n",
       "1  Infiltrating Lobular Carcinoma            81   25.552050\n",
       "2              Mucinous Carcinoma            12    3.785489"
      ]
     },
     "execution_count": 66,
     "metadata": {},
     "output_type": "execute_result"
    }
   ],
   "source": [
    "cancer_types_total"
   ]
  },
  {
   "cell_type": "markdown",
   "id": "bef1f2c5",
   "metadata": {
    "papermill": {
     "duration": 0.077545,
     "end_time": "2021-09-26T15:25:00.980074",
     "exception": false,
     "start_time": "2021-09-26T15:25:00.902529",
     "status": "completed"
    },
    "tags": []
   },
   "source": [
    "From the table above, we see that there are **224 cases of Infiltrating Ductal Carcinoma**, **81 cases of Infiltrating Lobular Carcinoma** and only **12 cases of mucinous carcinoma**."
   ]
  },
  {
   "cell_type": "markdown",
   "id": "a9d319df",
   "metadata": {
    "papermill": {
     "duration": 0.078177,
     "end_time": "2021-09-26T15:25:01.136641",
     "exception": false,
     "start_time": "2021-09-26T15:25:01.058464",
     "status": "completed"
    },
    "tags": []
   },
   "source": [
    "To get a better idea of the true proportion of each number to cases to the total number of cases, we plot a bar chart with the percentage of cases:"
   ]
  },
  {
   "cell_type": "code",
   "execution_count": 67,
   "id": "c8f17dbf",
   "metadata": {
    "execution": {
     "iopub.execute_input": "2021-09-26T15:25:01.342326Z",
     "iopub.status.busy": "2021-09-26T15:25:01.341337Z",
     "iopub.status.idle": "2021-09-26T15:25:01.448521Z",
     "shell.execute_reply": "2021-09-26T15:25:01.448022Z",
     "shell.execute_reply.started": "2021-09-26T15:24:18.479610Z"
    },
    "papermill": {
     "duration": 0.233296,
     "end_time": "2021-09-26T15:25:01.448653",
     "exception": false,
     "start_time": "2021-09-26T15:25:01.215357",
     "status": "completed"
    },
    "tags": []
   },
   "outputs": [
    {
     "data": {
      "image/png": "[encoded data removed]",
      "text/plain": [
       "<Figure size 640x480 with 1 Axes>"
      ]
     },
     "metadata": {},
     "output_type": "display_data"
    }
   ],
   "source": [
    "totals_bar = plt.bar(cancer_types_total['Histology'],cancer_types_total['Percentage'])\n",
    "plt.xticks(rotation = 60)\n",
    "plt.yticks(np.arange(0,100,10))\n",
    "plt.xlabel('Type of cancer')\n",
    "plt.ylabel('Percentage of total patients')\n",
    "plt.title('Total cancer types in dataset by percentage')\n",
    "plt.bar_label(totals_bar, labels = ['{:.2f}%'.format(t) for t in totals_bar.datavalues], padding = 3)\n",
    "plt.show()"
   ]
  },
  {
   "cell_type": "markdown",
   "id": "a2cec0e4",
   "metadata": {
    "papermill": {
     "duration": 0.07862,
     "end_time": "2021-09-26T15:25:01.606190",
     "exception": false,
     "start_time": "2021-09-26T15:25:01.527570",
     "status": "completed"
    },
    "tags": []
   },
   "source": [
    "So now we see that in our dataset, **70.66%** of cases are of the **Infiltrating Ductal Carcinoma** type, **25.55%** are of the **Infiltrating Lobular Carcinoma** type, and only **3.79%** are of the **Mucinous Carcinoma** type. This fits with the fact that Infiltrating Ductal Carcinoma is the most common type of breast cancer; in any given sample dataset, it is likely that it is the most popular of all the types."
   ]
  },
  {
   "cell_type": "markdown",
   "id": "e4c32328",
   "metadata": {
    "papermill": {
     "duration": 0.078837,
     "end_time": "2021-09-26T15:25:01.763609",
     "exception": false,
     "start_time": "2021-09-26T15:25:01.684772",
     "status": "completed"
    },
    "tags": []
   },
   "source": [
    "## Stages of each cancer type"
   ]
  },
  {
   "cell_type": "markdown",
   "id": "928fae78",
   "metadata": {
    "papermill": {
     "duration": 0.078982,
     "end_time": "2021-09-26T15:25:01.921648",
     "exception": false,
     "start_time": "2021-09-26T15:25:01.842666",
     "status": "completed"
    },
    "tags": []
   },
   "source": [
    "We further subdivide each cancer type into its stages, to get a more elaborate picture of the distribution of our dataset:"
   ]
  },
  {
   "cell_type": "code",
   "execution_count": 68,
   "id": "59ae4bcf",
   "metadata": {
    "execution": {
     "iopub.execute_input": "2021-09-26T15:25:02.090370Z",
     "iopub.status.busy": "2021-09-26T15:25:02.087965Z",
     "iopub.status.idle": "2021-09-26T15:25:02.097778Z",
     "shell.execute_reply": "2021-09-26T15:25:02.097227Z",
     "shell.execute_reply.started": "2021-09-26T15:24:18.660101Z"
    },
    "papermill": {
     "duration": 0.095782,
     "end_time": "2021-09-26T15:25:02.097912",
     "exception": false,
     "start_time": "2021-09-26T15:25:02.002130",
     "status": "completed"
    },
    "tags": []
   },
   "outputs": [],
   "source": [
    "# we group the cancer types by histology and stage, and count them\n",
    "cancer_type_by_stage = (\n",
    "    bc\n",
    "    .groupby(['Histology', 'Tumour_Stage'], as_index = False)\n",
    "    .agg(Total = ('Age', 'count'))\n",
    ")"
   ]
  },
  {
   "cell_type": "code",
   "execution_count": 69,
   "id": "617329b9",
   "metadata": {
    "execution": {
     "iopub.execute_input": "2021-09-26T15:25:02.266016Z",
     "iopub.status.busy": "2021-09-26T15:25:02.265195Z",
     "iopub.status.idle": "2021-09-26T15:25:02.268515Z",
     "shell.execute_reply": "2021-09-26T15:25:02.268895Z",
     "shell.execute_reply.started": "2021-09-26T15:24:18.679377Z"
    },
    "papermill": {
     "duration": 0.091816,
     "end_time": "2021-09-26T15:25:02.269050",
     "exception": false,
     "start_time": "2021-09-26T15:25:02.177234",
     "status": "completed"
    },
    "tags": []
   },
   "outputs": [
    {
     "data": {
      "text/html": [
       "<div>\n",
       "<style scoped>\n",
       "    .dataframe tbody tr th:only-of-type {\n",
       "        vertical-align: middle;\n",
       "    }\n",
       "\n",
       "    .dataframe tbody tr th {\n",
       "        vertical-align: top;\n",
       "    }\n",
       "\n",
       "    .dataframe thead th {\n",
       "        text-align: right;\n",
       "    }\n",
       "</style>\n",
       "<table border=\"1\" class=\"dataframe\">\n",
       "  <thead>\n",
       "    <tr style=\"text-align: right;\">\n",
       "      <th></th>\n",
       "      <th>Histology</th>\n",
       "      <th>Tumour_Stage</th>\n",
       "      <th>Total</th>\n",
       "    </tr>\n",
       "  </thead>\n",
       "  <tbody>\n",
       "    <tr>\n",
       "      <th>0</th>\n",
       "      <td>Infiltrating Ductal Carcinoma</td>\n",
       "      <td>I</td>\n",
       "      <td>47</td>\n",
       "    </tr>\n",
       "    <tr>\n",
       "      <th>1</th>\n",
       "      <td>Infiltrating Ductal Carcinoma</td>\n",
       "      <td>II</td>\n",
       "      <td>120</td>\n",
       "    </tr>\n",
       "    <tr>\n",
       "      <th>2</th>\n",
       "      <td>Infiltrating Ductal Carcinoma</td>\n",
       "      <td>III</td>\n",
       "      <td>57</td>\n",
       "    </tr>\n",
       "    <tr>\n",
       "      <th>3</th>\n",
       "      <td>Infiltrating Lobular Carcinoma</td>\n",
       "      <td>I</td>\n",
       "      <td>10</td>\n",
       "    </tr>\n",
       "    <tr>\n",
       "      <th>4</th>\n",
       "      <td>Infiltrating Lobular Carcinoma</td>\n",
       "      <td>II</td>\n",
       "      <td>51</td>\n",
       "    </tr>\n",
       "    <tr>\n",
       "      <th>5</th>\n",
       "      <td>Infiltrating Lobular Carcinoma</td>\n",
       "      <td>III</td>\n",
       "      <td>20</td>\n",
       "    </tr>\n",
       "    <tr>\n",
       "      <th>6</th>\n",
       "      <td>Mucinous Carcinoma</td>\n",
       "      <td>I</td>\n",
       "      <td>3</td>\n",
       "    </tr>\n",
       "    <tr>\n",
       "      <th>7</th>\n",
       "      <td>Mucinous Carcinoma</td>\n",
       "      <td>II</td>\n",
       "      <td>9</td>\n",
       "    </tr>\n",
       "  </tbody>\n",
       "</table>\n",
       "</div>"
      ],
      "text/plain": [
       "                        Histology Tumour_Stage  Total\n",
       "0   Infiltrating Ductal Carcinoma            I     47\n",
       "1   Infiltrating Ductal Carcinoma           II    120\n",
       "2   Infiltrating Ductal Carcinoma          III     57\n",
       "3  Infiltrating Lobular Carcinoma            I     10\n",
       "4  Infiltrating Lobular Carcinoma           II     51\n",
       "5  Infiltrating Lobular Carcinoma          III     20\n",
       "6              Mucinous Carcinoma            I      3\n",
       "7              Mucinous Carcinoma           II      9"
      ]
     },
     "execution_count": 69,
     "metadata": {},
     "output_type": "execute_result"
    }
   ],
   "source": [
    "cancer_type_by_stage"
   ]
  },
  {
   "cell_type": "markdown",
   "id": "c6dc210d",
   "metadata": {
    "papermill": {
     "duration": 0.083534,
     "end_time": "2021-09-26T15:25:03.403615",
     "exception": false,
     "start_time": "2021-09-26T15:25:03.320081",
     "status": "completed"
    },
    "tags": []
   },
   "source": [
    "Now we can see that for **Infiltrating Ductal Carcinoma** and **Infiltrating Lobular Carcinoma**, the number of Stage II patients are the greatest, followed by stage III. This could be due to the fact that many patients do not present to the doctor until they are in Stage II of the disease."
   ]
  },
  {
   "cell_type": "markdown",
   "id": "c675df80",
   "metadata": {
    "papermill": {
     "duration": 0.081451,
     "end_time": "2021-09-26T15:25:03.567719",
     "exception": false,
     "start_time": "2021-09-26T15:25:03.486268",
     "status": "completed"
    },
    "tags": []
   },
   "source": [
    "## Age ranges for each cancer type"
   ]
  },
  {
   "cell_type": "markdown",
   "id": "2ca50218",
   "metadata": {
    "papermill": {
     "duration": 0.081973,
     "end_time": "2021-09-26T15:25:03.731346",
     "exception": false,
     "start_time": "2021-09-26T15:25:03.649373",
     "status": "completed"
    },
    "tags": []
   },
   "source": [
    "We can also look at the age ranges for each cancer type, to see whether any particular type favours any age range. For this we need to transform the dataset to get the number of cases in each age range."
   ]
  },
  {
   "cell_type": "code",
   "execution_count": 70,
   "id": "abb8f710",
   "metadata": {
    "execution": {
     "iopub.execute_input": "2021-09-26T15:25:03.898771Z",
     "iopub.status.busy": "2021-09-26T15:25:03.897825Z",
     "iopub.status.idle": "2021-09-26T15:25:03.922147Z",
     "shell.execute_reply": "2021-09-26T15:25:03.922659Z",
     "shell.execute_reply.started": "2021-09-26T15:24:19.003358Z"
    },
    "papermill": {
     "duration": 0.109777,
     "end_time": "2021-09-26T15:25:03.922831",
     "exception": false,
     "start_time": "2021-09-26T15:25:03.813054",
     "status": "completed"
    },
    "tags": []
   },
   "outputs": [],
   "source": [
    "# first we get subsets of the original dataframe by age range, and put each subset in a dictionary\n",
    "cancer_ages_raw = {}\n",
    "key = 0\n",
    "for i in range(len(bins)):\n",
    "    if i < len(bins) - 1:\n",
    "        row = bc.loc[(bc['Age'] >= bins[i]) & (bc['Age'] < bins[i + 1])][['Histology', 'Age']]\n",
    "        if row.empty is False:\n",
    "            cancer_ages_raw.update({'{} to {}'.format(bins[i], bins[i + 1]):row })\n",
    "            key += 1\n",
    "    else:\n",
    "        pass"
   ]
  },
  {
   "cell_type": "code",
   "execution_count": 71,
   "id": "127cb551",
   "metadata": {
    "execution": {
     "iopub.execute_input": "2021-09-26T15:25:04.093423Z",
     "iopub.status.busy": "2021-09-26T15:25:04.089699Z",
     "iopub.status.idle": "2021-09-26T15:25:04.138268Z",
     "shell.execute_reply": "2021-09-26T15:25:04.138740Z",
     "shell.execute_reply.started": "2021-09-26T15:24:19.036606Z"
    },
    "papermill": {
     "duration": 0.134309,
     "end_time": "2021-09-26T15:25:04.138937",
     "exception": false,
     "start_time": "2021-09-26T15:25:04.004628",
     "status": "completed"
    },
    "tags": []
   },
   "outputs": [],
   "source": [
    "# then we group by histology (to get each cancer type) and put these in another list of dictionaries\n",
    "\n",
    "cancer_ages_list = []\n",
    "\n",
    "for key, val in cancer_ages_raw.items():\n",
    "    age_range = key\n",
    "    hist = val.groupby('Histology', as_index = False).count()['Histology']\n",
    "    age_count = val.groupby('Histology', as_index = False).count()['Age']\n",
    "    hist_vals = {}\n",
    "    \n",
    "    for h, a in zip(hist, age_count):\n",
    "        hist_vals.update({'Age_range': age_range, h:a})\n",
    "        \n",
    "    cancer_ages_list.append(hist_vals)"
   ]
  },
  {
   "cell_type": "code",
   "execution_count": 72,
   "id": "f23a4109",
   "metadata": {
    "execution": {
     "iopub.execute_input": "2021-09-26T15:25:04.310054Z",
     "iopub.status.busy": "2021-09-26T15:25:04.307167Z",
     "iopub.status.idle": "2021-09-26T15:25:04.313013Z",
     "shell.execute_reply": "2021-09-26T15:25:04.312493Z",
     "shell.execute_reply.started": "2021-09-26T15:24:19.097729Z"
    },
    "papermill": {
     "duration": 0.090714,
     "end_time": "2021-09-26T15:25:04.313144",
     "exception": false,
     "start_time": "2021-09-26T15:25:04.222430",
     "status": "completed"
    },
    "tags": []
   },
   "outputs": [],
   "source": [
    "# finally, we convert this list to a dataframe\n",
    "\n",
    "cancer_ages = pd.DataFrame(cancer_ages_list)"
   ]
  },
  {
   "cell_type": "code",
   "execution_count": 73,
   "id": "93feaee0",
   "metadata": {
    "execution": {
     "iopub.execute_input": "2021-09-26T15:25:04.480934Z",
     "iopub.status.busy": "2021-09-26T15:25:04.480005Z",
     "iopub.status.idle": "2021-09-26T15:25:04.484043Z",
     "shell.execute_reply": "2021-09-26T15:25:04.484547Z",
     "shell.execute_reply.started": "2021-09-26T15:24:19.105750Z"
    },
    "papermill": {
     "duration": 0.089755,
     "end_time": "2021-09-26T15:25:04.484709",
     "exception": false,
     "start_time": "2021-09-26T15:25:04.394954",
     "status": "completed"
    },
    "tags": []
   },
   "outputs": [],
   "source": [
    "# performing clean-up in the next few cells...\n",
    "\n",
    "cancer_ages.fillna(0, inplace = True)"
   ]
  },
  {
   "cell_type": "code",
   "execution_count": 74,
   "id": "82b4e526",
   "metadata": {
    "execution": {
     "iopub.execute_input": "2021-09-26T15:25:04.650820Z",
     "iopub.status.busy": "2021-09-26T15:25:04.649912Z",
     "iopub.status.idle": "2021-09-26T15:25:04.654776Z",
     "shell.execute_reply": "2021-09-26T15:25:04.654331Z",
     "shell.execute_reply.started": "2021-09-26T15:24:19.117060Z"
    },
    "papermill": {
     "duration": 0.088812,
     "end_time": "2021-09-26T15:25:04.654922",
     "exception": false,
     "start_time": "2021-09-26T15:25:04.566110",
     "status": "completed"
    },
    "tags": []
   },
   "outputs": [],
   "source": [
    "cols = ['Infiltrating Ductal Carcinoma','Infiltrating Lobular Carcinoma','Mucinous Carcinoma']"
   ]
  },
  {
   "cell_type": "code",
   "execution_count": 75,
   "id": "8a45a57d",
   "metadata": {
    "execution": {
     "iopub.execute_input": "2021-09-26T15:25:04.825492Z",
     "iopub.status.busy": "2021-09-26T15:25:04.824824Z",
     "iopub.status.idle": "2021-09-26T15:25:04.827756Z",
     "shell.execute_reply": "2021-09-26T15:25:04.827302Z",
     "shell.execute_reply.started": "2021-09-26T15:24:19.128110Z"
    },
    "papermill": {
     "duration": 0.090949,
     "end_time": "2021-09-26T15:25:04.827925",
     "exception": false,
     "start_time": "2021-09-26T15:25:04.736976",
     "status": "completed"
    },
    "tags": []
   },
   "outputs": [],
   "source": [
    "for vla in cols:\n",
    "    cancer_ages[vla] = cancer_ages[vla].astype(int)"
   ]
  },
  {
   "cell_type": "code",
   "execution_count": 76,
   "id": "93d9ab0f",
   "metadata": {
    "execution": {
     "iopub.execute_input": "2021-09-26T15:25:05.000669Z",
     "iopub.status.busy": "2021-09-26T15:25:05.000035Z",
     "iopub.status.idle": "2021-09-26T15:25:05.002373Z",
     "shell.execute_reply": "2021-09-26T15:25:05.002904Z",
     "shell.execute_reply.started": "2021-09-26T15:24:19.143519Z"
    },
    "papermill": {
     "duration": 0.093464,
     "end_time": "2021-09-26T15:25:05.003057",
     "exception": false,
     "start_time": "2021-09-26T15:25:04.909593",
     "status": "completed"
    },
    "tags": []
   },
   "outputs": [
    {
     "data": {
      "text/html": [
       "<div>\n",
       "<style scoped>\n",
       "    .dataframe tbody tr th:only-of-type {\n",
       "        vertical-align: middle;\n",
       "    }\n",
       "\n",
       "    .dataframe tbody tr th {\n",
       "        vertical-align: top;\n",
       "    }\n",
       "\n",
       "    .dataframe thead th {\n",
       "        text-align: right;\n",
       "    }\n",
       "</style>\n",
       "<table border=\"1\" class=\"dataframe\">\n",
       "  <thead>\n",
       "    <tr style=\"text-align: right;\">\n",
       "      <th></th>\n",
       "      <th>Age_range</th>\n",
       "      <th>Infiltrating Ductal Carcinoma</th>\n",
       "      <th>Infiltrating Lobular Carcinoma</th>\n",
       "      <th>Mucinous Carcinoma</th>\n",
       "    </tr>\n",
       "  </thead>\n",
       "  <tbody>\n",
       "    <tr>\n",
       "      <th>0</th>\n",
       "      <td>25 to 30</td>\n",
       "      <td>1</td>\n",
       "      <td>1</td>\n",
       "      <td>0</td>\n",
       "    </tr>\n",
       "    <tr>\n",
       "      <th>1</th>\n",
       "      <td>30 to 35</td>\n",
       "      <td>1</td>\n",
       "      <td>0</td>\n",
       "      <td>0</td>\n",
       "    </tr>\n",
       "    <tr>\n",
       "      <th>2</th>\n",
       "      <td>35 to 40</td>\n",
       "      <td>7</td>\n",
       "      <td>4</td>\n",
       "      <td>1</td>\n",
       "    </tr>\n",
       "    <tr>\n",
       "      <th>3</th>\n",
       "      <td>40 to 45</td>\n",
       "      <td>12</td>\n",
       "      <td>10</td>\n",
       "      <td>1</td>\n",
       "    </tr>\n",
       "    <tr>\n",
       "      <th>4</th>\n",
       "      <td>45 to 50</td>\n",
       "      <td>30</td>\n",
       "      <td>12</td>\n",
       "      <td>2</td>\n",
       "    </tr>\n",
       "  </tbody>\n",
       "</table>\n",
       "</div>"
      ],
      "text/plain": [
       "  Age_range  Infiltrating Ductal Carcinoma  Infiltrating Lobular Carcinoma  \\\n",
       "0  25 to 30                              1                               1   \n",
       "1  30 to 35                              1                               0   \n",
       "2  35 to 40                              7                               4   \n",
       "3  40 to 45                             12                              10   \n",
       "4  45 to 50                             30                              12   \n",
       "\n",
       "   Mucinous Carcinoma  \n",
       "0                   0  \n",
       "1                   0  \n",
       "2                   1  \n",
       "3                   1  \n",
       "4                   2  "
      ]
     },
     "execution_count": 76,
     "metadata": {},
     "output_type": "execute_result"
    }
   ],
   "source": [
    "cancer_ages.head()"
   ]
  },
  {
   "cell_type": "code",
   "execution_count": 77,
   "id": "f176e882",
   "metadata": {
    "execution": {
     "iopub.execute_input": "2021-09-26T15:25:05.170221Z",
     "iopub.status.busy": "2021-09-26T15:25:05.169458Z",
     "iopub.status.idle": "2021-09-26T15:25:05.743056Z",
     "shell.execute_reply": "2021-09-26T15:25:05.743556Z",
     "shell.execute_reply.started": "2021-09-26T15:24:19.161246Z"
    },
    "papermill": {
     "duration": 0.65867,
     "end_time": "2021-09-26T15:25:05.743718",
     "exception": false,
     "start_time": "2021-09-26T15:25:05.085048",
     "status": "completed"
    },
    "scrolled": true,
    "tags": []
   },
   "outputs": [
    {
     "data": {
      "image/png": "[encoded data removed]",
      "text/plain": [
       "<Figure size 2000x600 with 3 Axes>"
      ]
     },
     "metadata": {},
     "output_type": "display_data"
    }
   ],
   "source": [
    "fig, axs = plt.subplots(1,3, figsize = (20,6))\n",
    "axs[0].bar(cancer_ages['Age_range'], cancer_ages['Infiltrating Ductal Carcinoma'], width = 0.5, edgecolor = 'black')\n",
    "axs[0].set_xticks(list(cancer_ages['Age_range']))\n",
    "axs[0].set_xticklabels(list(cancer_ages['Age_range']), rotation = 60)\n",
    "axs[0].set_yticks(range(0,45, 5))\n",
    "axs[0].set_title('Infiltrating Ductal Carcinoma')\n",
    "\n",
    "axs[1].bar(cancer_ages['Age_range'], cancer_ages['Infiltrating Lobular Carcinoma'], width = 0.5, edgecolor = 'black', color = 'red')\n",
    "axs[1].set_xticks(list(cancer_ages['Age_range']))\n",
    "axs[1].set_xticklabels(list(cancer_ages['Age_range']), rotation = 60)\n",
    "axs[1].set_yticks(range(0,45, 5))\n",
    "axs[1].set_title('Infiltrating Lobular Carcinoma')\n",
    "\n",
    "axs[2].bar(cancer_ages['Age_range'], cancer_ages['Mucinous Carcinoma'], width = 0.5, edgecolor = 'black', color = 'green')\n",
    "axs[2].set_xticks(list(cancer_ages['Age_range']))\n",
    "axs[2].set_xticklabels(list(cancer_ages['Age_range']), rotation = 60)\n",
    "axs[2].set_yticks(range(0,45, 5))\n",
    "axs[2].set_title('Mucinous Carcinoma')\n",
    "\n",
    "fig.tight_layout(pad = 4)\n",
    "fig.supxlabel('Age ranges', fontsize = 15)\n",
    "fig.suptitle('Age ranges for each cancer type', fontsize = 25)\n",
    "plt.show()"
   ]
  },
  {
   "cell_type": "markdown",
   "id": "9052da60",
   "metadata": {
    "papermill": {
     "duration": 0.08368,
     "end_time": "2021-09-26T15:25:05.910589",
     "exception": false,
     "start_time": "2021-09-26T15:25:05.826909",
     "status": "completed"
    },
    "tags": []
   },
   "source": [
    "We see from above that the rates of occurance of cancer of all types is greatest in middle ages, with rates of occurance declining at both extremes of age. \n",
    "\n",
    "Patients 45+ are **nearly double** the number of patients <45 having **Infiltrating Ductal Carcinoma**, with rates jumping from around **13% to 30%** for ages **45-65**, before gradually declining beyond.\n",
    "\n",
    "For **Infiltrating Lobular Carcinoma** the number of patients rises morely evenly, with only **1%** of patients from age **25** to **15%** in ages **50-55**. At the other tail of the curve, there is a decrease of 5-10% in numbers up to ages 75-80.\n",
    "\n",
    "In **Mucinous Carcinoma**, it is very difficult to interpret any trends due to the smaller number of samples."
   ]
  },
  {
   "cell_type": "markdown",
   "id": "29243cd8",
   "metadata": {
    "papermill": {
     "duration": 0.101237,
     "end_time": "2021-09-26T15:25:21.878893",
     "exception": false,
     "start_time": "2021-09-26T15:25:21.777656",
     "status": "completed"
    },
    "tags": []
   },
   "source": [
    "## Mortality"
   ]
  },
  {
   "cell_type": "markdown",
   "id": "c8c2af98",
   "metadata": {
    "papermill": {
     "duration": 0.103113,
     "end_time": "2021-09-26T15:25:22.083775",
     "exception": false,
     "start_time": "2021-09-26T15:25:21.980662",
     "status": "completed"
    },
    "tags": []
   },
   "source": [
    "Mortality is a health statistic that corresponds to the total number of deaths per unit time in a population divided by the population's number. Since our dataset gives us the patient's status (alive or dead), it would be interesting to calculate the mortality by different parameters for our dataset."
   ]
  },
  {
   "cell_type": "markdown",
   "id": "1e3b607b",
   "metadata": {
    "papermill": {
     "duration": 0.100972,
     "end_time": "2021-09-26T15:25:22.286978",
     "exception": false,
     "start_time": "2021-09-26T15:25:22.186006",
     "status": "completed"
    },
    "tags": []
   },
   "source": [
    "### Number of deaths each age range "
   ]
  },
  {
   "cell_type": "markdown",
   "id": "c23a8d85",
   "metadata": {
    "papermill": {
     "duration": 0.103548,
     "end_time": "2021-09-26T15:25:22.491880",
     "exception": false,
     "start_time": "2021-09-26T15:25:22.388332",
     "status": "completed"
    },
    "tags": []
   },
   "source": [
    "First we can take a look at the number of deaths in each age range. For this, weonce again need to transform the data before we can work with it."
   ]
  },
  {
   "cell_type": "code",
   "execution_count": 78,
   "id": "69cbe538",
   "metadata": {
    "execution": {
     "iopub.execute_input": "2021-09-26T15:25:22.724753Z",
     "iopub.status.busy": "2021-09-26T15:25:22.700407Z",
     "iopub.status.idle": "2021-09-26T15:25:22.726710Z",
     "shell.execute_reply": "2021-09-26T15:25:22.727180Z",
     "shell.execute_reply.started": "2021-09-26T15:24:25.359991Z"
    },
    "papermill": {
     "duration": 0.132566,
     "end_time": "2021-09-26T15:25:22.727365",
     "exception": false,
     "start_time": "2021-09-26T15:25:22.594799",
     "status": "completed"
    },
    "tags": []
   },
   "outputs": [],
   "source": [
    "# We get the patient statuses and ages by age ranges, and put the subsets of data into a dictionary\n",
    "\n",
    "cancer_mort_raw = {}\n",
    "key = 0\n",
    "for i in range(len(bins)):\n",
    "    if i < len(bins) - 1:\n",
    "        row = bc.loc[(bc['Age'] >= bins[i]) & (bc['Age'] < bins[i + 1])][['Patient_Status', 'Age']]\n",
    "        if row.empty is False:\n",
    "            cancer_mort_raw.update({'{} to {}'.format(bins[i], bins[i + 1]):row })\n",
    "            key += 1\n",
    "    else:\n",
    "        pass"
   ]
  },
  {
   "cell_type": "code",
   "execution_count": 79,
   "id": "4962a2e7",
   "metadata": {
    "execution": {
     "iopub.execute_input": "2021-09-26T15:25:22.935346Z",
     "iopub.status.busy": "2021-09-26T15:25:22.934709Z",
     "iopub.status.idle": "2021-09-26T15:25:22.964449Z",
     "shell.execute_reply": "2021-09-26T15:25:22.964922Z",
     "shell.execute_reply.started": "2021-09-26T15:24:25.390056Z"
    },
    "papermill": {
     "duration": 0.135247,
     "end_time": "2021-09-26T15:25:22.965131",
     "exception": false,
     "start_time": "2021-09-26T15:25:22.829884",
     "status": "completed"
    },
    "tags": []
   },
   "outputs": [],
   "source": [
    "# we further clean the data, and rejoin the subsets into one dataframe\n",
    "\n",
    "cancer_mort_list = []\n",
    "\n",
    "for key, val in cancer_mort_raw.items():\n",
    "    age_range = key\n",
    "    status_df = val.groupby('Patient_Status', as_index = False).count()\n",
    "    status_vals = {}\n",
    "    \n",
    "    for ps, a in zip(status_df['Patient_Status'], status_df['Age']):\n",
    "        status_vals.update({'Age_range': age_range, ps: a})\n",
    "        \n",
    "    cancer_mort_list.append(status_vals)"
   ]
  },
  {
   "cell_type": "code",
   "execution_count": 80,
   "id": "c9b13e19",
   "metadata": {
    "execution": {
     "iopub.execute_input": "2021-09-26T15:25:23.174521Z",
     "iopub.status.busy": "2021-09-26T15:25:23.173868Z",
     "iopub.status.idle": "2021-09-26T15:25:23.179459Z",
     "shell.execute_reply": "2021-09-26T15:25:23.178928Z",
     "shell.execute_reply.started": "2021-09-26T15:24:25.425343Z"
    },
    "papermill": {
     "duration": 0.11244,
     "end_time": "2021-09-26T15:25:23.179599",
     "exception": false,
     "start_time": "2021-09-26T15:25:23.067159",
     "status": "completed"
    },
    "tags": []
   },
   "outputs": [],
   "source": [
    "cancer_mort = pd.DataFrame(cancer_mort_list)\n",
    "cancer_mort.fillna(0, inplace = True)"
   ]
  },
  {
   "cell_type": "code",
   "execution_count": 81,
   "id": "2a2c7963",
   "metadata": {
    "execution": {
     "iopub.execute_input": "2021-09-26T15:25:23.393525Z",
     "iopub.status.busy": "2021-09-26T15:25:23.392696Z",
     "iopub.status.idle": "2021-09-26T15:25:23.396403Z",
     "shell.execute_reply": "2021-09-26T15:25:23.395802Z",
     "shell.execute_reply.started": "2021-09-26T15:24:25.438427Z"
    },
    "papermill": {
     "duration": 0.114969,
     "end_time": "2021-09-26T15:25:23.396610",
     "exception": false,
     "start_time": "2021-09-26T15:25:23.281641",
     "status": "completed"
    },
    "scrolled": true,
    "tags": []
   },
   "outputs": [
    {
     "data": {
      "text/html": [
       "<div>\n",
       "<style scoped>\n",
       "    .dataframe tbody tr th:only-of-type {\n",
       "        vertical-align: middle;\n",
       "    }\n",
       "\n",
       "    .dataframe tbody tr th {\n",
       "        vertical-align: top;\n",
       "    }\n",
       "\n",
       "    .dataframe thead th {\n",
       "        text-align: right;\n",
       "    }\n",
       "</style>\n",
       "<table border=\"1\" class=\"dataframe\">\n",
       "  <thead>\n",
       "    <tr style=\"text-align: right;\">\n",
       "      <th></th>\n",
       "      <th>Age_range</th>\n",
       "      <th>Alive</th>\n",
       "      <th>Dead</th>\n",
       "    </tr>\n",
       "  </thead>\n",
       "  <tbody>\n",
       "    <tr>\n",
       "      <th>0</th>\n",
       "      <td>25 to 30</td>\n",
       "      <td>1.0</td>\n",
       "      <td>1.0</td>\n",
       "    </tr>\n",
       "    <tr>\n",
       "      <th>1</th>\n",
       "      <td>30 to 35</td>\n",
       "      <td>0.0</td>\n",
       "      <td>1.0</td>\n",
       "    </tr>\n",
       "    <tr>\n",
       "      <th>2</th>\n",
       "      <td>35 to 40</td>\n",
       "      <td>11.0</td>\n",
       "      <td>1.0</td>\n",
       "    </tr>\n",
       "    <tr>\n",
       "      <th>3</th>\n",
       "      <td>40 to 45</td>\n",
       "      <td>20.0</td>\n",
       "      <td>3.0</td>\n",
       "    </tr>\n",
       "    <tr>\n",
       "      <th>4</th>\n",
       "      <td>45 to 50</td>\n",
       "      <td>33.0</td>\n",
       "      <td>11.0</td>\n",
       "    </tr>\n",
       "  </tbody>\n",
       "</table>\n",
       "</div>"
      ],
      "text/plain": [
       "  Age_range  Alive  Dead\n",
       "0  25 to 30    1.0   1.0\n",
       "1  30 to 35    0.0   1.0\n",
       "2  35 to 40   11.0   1.0\n",
       "3  40 to 45   20.0   3.0\n",
       "4  45 to 50   33.0  11.0"
      ]
     },
     "execution_count": 81,
     "metadata": {},
     "output_type": "execute_result"
    }
   ],
   "source": [
    "cancer_mort.head()"
   ]
  },
  {
   "cell_type": "code",
   "execution_count": 82,
   "id": "15e150be",
   "metadata": {
    "execution": {
     "iopub.execute_input": "2021-09-26T15:25:23.631577Z",
     "iopub.status.busy": "2021-09-26T15:25:23.630135Z",
     "iopub.status.idle": "2021-09-26T15:25:23.859911Z",
     "shell.execute_reply": "2021-09-26T15:25:23.859447Z",
     "shell.execute_reply.started": "2021-09-26T15:24:25.458806Z"
    },
    "papermill": {
     "duration": 0.360716,
     "end_time": "2021-09-26T15:25:23.860047",
     "exception": false,
     "start_time": "2021-09-26T15:25:23.499331",
     "status": "completed"
    },
    "tags": []
   },
   "outputs": [
    {
     "data": {
      "image/png": "[encoded data removed]",
      "text/plain": [
       "<Figure size 1000x600 with 1 Axes>"
      ]
     },
     "metadata": {},
     "output_type": "display_data"
    }
   ],
   "source": [
    "fig = plt.figure(figsize = (10,6))\n",
    "\n",
    "age_range = list(cancer_mort['Age_range'])\n",
    "x = np.arange(len(age_range))\n",
    "width = 0.4\n",
    "\n",
    "plt.bar(x, cancer_mort['Alive'], width = width, label = 'Alive')\n",
    "plt.bar(x + width, cancer_mort['Dead'], width = width, label = 'Dead')\n",
    "plt.xticks(x, rotation = 60, labels = age_range)\n",
    "plt.yticks(np.arange(0, 55, 5))\n",
    "plt.title('Number of dead vs live patients by age range')\n",
    "plt.xlabel('Age range')\n",
    "plt.ylabel('Number of deaths')\n",
    "\n",
    "plt.legend()\n",
    "plt.show()"
   ]
  },
  {
   "cell_type": "markdown",
   "id": "44504c08",
   "metadata": {
    "papermill": {
     "duration": 0.104345,
     "end_time": "2021-09-26T15:25:24.067631",
     "exception": false,
     "start_time": "2021-09-26T15:25:23.963286",
     "status": "completed"
    },
    "tags": []
   },
   "source": [
    "From the above chart, we can see that deaths in all age ranges follow a normal distribution, same as the overall distribution of number of cases. We could try to get the percentages for each age range, but considering that we have an uneven number of patients in each range, our results could be deciphered incorrectly. "
   ]
  },
  {
   "cell_type": "markdown",
   "id": "9407ffe4",
   "metadata": {
    "papermill": {
     "duration": 0.103564,
     "end_time": "2021-09-26T15:25:24.274149",
     "exception": false,
     "start_time": "2021-09-26T15:25:24.170585",
     "status": "completed"
    },
    "tags": []
   },
   "source": [
    "### Mortality rate by cancer type"
   ]
  },
  {
   "cell_type": "markdown",
   "id": "9297486b",
   "metadata": {
    "papermill": {
     "duration": 0.10311,
     "end_time": "2021-09-26T15:25:24.479740",
     "exception": false,
     "start_time": "2021-09-26T15:25:24.376630",
     "status": "completed"
    },
    "tags": []
   },
   "source": [
    "We can see what the mortality is for each cancer type:"
   ]
  },
  {
   "cell_type": "code",
   "execution_count": 83,
   "id": "81a9f7fa",
   "metadata": {
    "execution": {
     "iopub.execute_input": "2021-09-26T15:25:24.696017Z",
     "iopub.status.busy": "2021-09-26T15:25:24.692904Z",
     "iopub.status.idle": "2021-09-26T15:25:24.700463Z",
     "shell.execute_reply": "2021-09-26T15:25:24.699967Z",
     "shell.execute_reply.started": "2021-09-26T15:24:25.763672Z"
    },
    "papermill": {
     "duration": 0.118153,
     "end_time": "2021-09-26T15:25:24.700620",
     "exception": false,
     "start_time": "2021-09-26T15:25:24.582467",
     "status": "completed"
    },
    "tags": []
   },
   "outputs": [],
   "source": [
    "cancer_types = (\n",
    "    bc\n",
    "    .groupby(['Histology', 'Patient_Status'], as_index = False)\n",
    "    .agg(Total = ('Age', 'count'))\n",
    ")"
   ]
  },
  {
   "cell_type": "code",
   "execution_count": 84,
   "id": "0adeedaa",
   "metadata": {
    "execution": {
     "iopub.execute_input": "2021-09-26T15:25:24.916507Z",
     "iopub.status.busy": "2021-09-26T15:25:24.915673Z",
     "iopub.status.idle": "2021-09-26T15:25:24.919721Z",
     "shell.execute_reply": "2021-09-26T15:25:24.919212Z",
     "shell.execute_reply.started": "2021-09-26T15:24:25.779117Z"
    },
    "papermill": {
     "duration": 0.116743,
     "end_time": "2021-09-26T15:25:24.919855",
     "exception": false,
     "start_time": "2021-09-26T15:25:24.803112",
     "status": "completed"
    },
    "scrolled": true,
    "tags": []
   },
   "outputs": [
    {
     "data": {
      "text/html": [
       "<div>\n",
       "<style scoped>\n",
       "    .dataframe tbody tr th:only-of-type {\n",
       "        vertical-align: middle;\n",
       "    }\n",
       "\n",
       "    .dataframe tbody tr th {\n",
       "        vertical-align: top;\n",
       "    }\n",
       "\n",
       "    .dataframe thead th {\n",
       "        text-align: right;\n",
       "    }\n",
       "</style>\n",
       "<table border=\"1\" class=\"dataframe\">\n",
       "  <thead>\n",
       "    <tr style=\"text-align: right;\">\n",
       "      <th></th>\n",
       "      <th>Histology</th>\n",
       "      <th>Patient_Status</th>\n",
       "      <th>Total</th>\n",
       "    </tr>\n",
       "  </thead>\n",
       "  <tbody>\n",
       "    <tr>\n",
       "      <th>0</th>\n",
       "      <td>Infiltrating Ductal Carcinoma</td>\n",
       "      <td>Alive</td>\n",
       "      <td>179</td>\n",
       "    </tr>\n",
       "    <tr>\n",
       "      <th>1</th>\n",
       "      <td>Infiltrating Ductal Carcinoma</td>\n",
       "      <td>Dead</td>\n",
       "      <td>45</td>\n",
       "    </tr>\n",
       "    <tr>\n",
       "      <th>2</th>\n",
       "      <td>Infiltrating Lobular Carcinoma</td>\n",
       "      <td>Alive</td>\n",
       "      <td>67</td>\n",
       "    </tr>\n",
       "    <tr>\n",
       "      <th>3</th>\n",
       "      <td>Infiltrating Lobular Carcinoma</td>\n",
       "      <td>Dead</td>\n",
       "      <td>14</td>\n",
       "    </tr>\n",
       "    <tr>\n",
       "      <th>4</th>\n",
       "      <td>Mucinous Carcinoma</td>\n",
       "      <td>Alive</td>\n",
       "      <td>9</td>\n",
       "    </tr>\n",
       "    <tr>\n",
       "      <th>5</th>\n",
       "      <td>Mucinous Carcinoma</td>\n",
       "      <td>Dead</td>\n",
       "      <td>3</td>\n",
       "    </tr>\n",
       "  </tbody>\n",
       "</table>\n",
       "</div>"
      ],
      "text/plain": [
       "                        Histology Patient_Status  Total\n",
       "0   Infiltrating Ductal Carcinoma          Alive    179\n",
       "1   Infiltrating Ductal Carcinoma           Dead     45\n",
       "2  Infiltrating Lobular Carcinoma          Alive     67\n",
       "3  Infiltrating Lobular Carcinoma           Dead     14\n",
       "4              Mucinous Carcinoma          Alive      9\n",
       "5              Mucinous Carcinoma           Dead      3"
      ]
     },
     "execution_count": 84,
     "metadata": {},
     "output_type": "execute_result"
    }
   ],
   "source": [
    "cancer_types"
   ]
  },
  {
   "cell_type": "code",
   "execution_count": 85,
   "id": "51f18c41",
   "metadata": {
    "execution": {
     "iopub.execute_input": "2021-09-26T15:25:25.137602Z",
     "iopub.status.busy": "2021-09-26T15:25:25.136694Z",
     "iopub.status.idle": "2021-09-26T15:25:25.139726Z",
     "shell.execute_reply": "2021-09-26T15:25:25.139150Z",
     "shell.execute_reply.started": "2021-09-26T15:24:25.794561Z"
    },
    "papermill": {
     "duration": 0.115486,
     "end_time": "2021-09-26T15:25:25.139858",
     "exception": false,
     "start_time": "2021-09-26T15:25:25.024372",
     "status": "completed"
    },
    "tags": []
   },
   "outputs": [],
   "source": [
    "total_lesions = cancer_types_total['Total_Number'].sum()\n",
    "\n",
    "ratios_by_type = []\n",
    "ratios_by_total = []\n",
    "for hist, pat_total in zip(cancer_types_total['Histology'], cancer_types_total['Total_Number']):\n",
    "    results = cancer_types.loc[cancer_types['Histology'] == hist]\n",
    "    \n",
    "    for result in results['Total']:\n",
    "        ratio_by_type = (result/pat_total)*100\n",
    "        ratios_by_type.append(ratio_by_type)\n",
    "        \n",
    "        ratio_by_total = (result/total_lesions)*100\n",
    "        ratios_by_total.append(ratio_by_total)"
   ]
  },
  {
   "cell_type": "code",
   "execution_count": 86,
   "id": "77e8b47f",
   "metadata": {
    "execution": {
     "iopub.execute_input": "2021-09-26T15:25:25.359828Z",
     "iopub.status.busy": "2021-09-26T15:25:25.358929Z",
     "iopub.status.idle": "2021-09-26T15:25:25.362256Z",
     "shell.execute_reply": "2021-09-26T15:25:25.361745Z",
     "shell.execute_reply.started": "2021-09-26T15:24:25.806585Z"
    },
    "papermill": {
     "duration": 0.118578,
     "end_time": "2021-09-26T15:25:25.362431",
     "exception": false,
     "start_time": "2021-09-26T15:25:25.243853",
     "status": "completed"
    },
    "tags": []
   },
   "outputs": [],
   "source": [
    "cancer_types['Ratio by cancer type (%)'] = ratios_by_type\n",
    "cancer_types['Ratio by total (%)'] = ratios_by_total"
   ]
  },
  {
   "cell_type": "code",
   "execution_count": 87,
   "id": "1a77f5d0",
   "metadata": {
    "execution": {
     "iopub.execute_input": "2021-09-26T15:25:25.671114Z",
     "iopub.status.busy": "2021-09-26T15:25:25.670077Z",
     "iopub.status.idle": "2021-09-26T15:25:25.674042Z",
     "shell.execute_reply": "2021-09-26T15:25:25.674850Z",
     "shell.execute_reply.started": "2021-09-26T15:24:25.819720Z"
    },
    "papermill": {
     "duration": 0.140451,
     "end_time": "2021-09-26T15:25:25.675109",
     "exception": false,
     "start_time": "2021-09-26T15:25:25.534658",
     "status": "completed"
    },
    "scrolled": true,
    "tags": []
   },
   "outputs": [
    {
     "data": {
      "text/html": [
       "<div>\n",
       "<style scoped>\n",
       "    .dataframe tbody tr th:only-of-type {\n",
       "        vertical-align: middle;\n",
       "    }\n",
       "\n",
       "    .dataframe tbody tr th {\n",
       "        vertical-align: top;\n",
       "    }\n",
       "\n",
       "    .dataframe thead th {\n",
       "        text-align: right;\n",
       "    }\n",
       "</style>\n",
       "<table border=\"1\" class=\"dataframe\">\n",
       "  <thead>\n",
       "    <tr style=\"text-align: right;\">\n",
       "      <th></th>\n",
       "      <th>Histology</th>\n",
       "      <th>Patient_Status</th>\n",
       "      <th>Total</th>\n",
       "      <th>Ratio by cancer type (%)</th>\n",
       "      <th>Ratio by total (%)</th>\n",
       "    </tr>\n",
       "  </thead>\n",
       "  <tbody>\n",
       "    <tr>\n",
       "      <th>0</th>\n",
       "      <td>Infiltrating Ductal Carcinoma</td>\n",
       "      <td>Alive</td>\n",
       "      <td>179</td>\n",
       "      <td>79.910714</td>\n",
       "      <td>56.466877</td>\n",
       "    </tr>\n",
       "    <tr>\n",
       "      <th>1</th>\n",
       "      <td>Infiltrating Ductal Carcinoma</td>\n",
       "      <td>Dead</td>\n",
       "      <td>45</td>\n",
       "      <td>20.089286</td>\n",
       "      <td>14.195584</td>\n",
       "    </tr>\n",
       "    <tr>\n",
       "      <th>2</th>\n",
       "      <td>Infiltrating Lobular Carcinoma</td>\n",
       "      <td>Alive</td>\n",
       "      <td>67</td>\n",
       "      <td>82.716049</td>\n",
       "      <td>21.135647</td>\n",
       "    </tr>\n",
       "    <tr>\n",
       "      <th>3</th>\n",
       "      <td>Infiltrating Lobular Carcinoma</td>\n",
       "      <td>Dead</td>\n",
       "      <td>14</td>\n",
       "      <td>17.283951</td>\n",
       "      <td>4.416404</td>\n",
       "    </tr>\n",
       "    <tr>\n",
       "      <th>4</th>\n",
       "      <td>Mucinous Carcinoma</td>\n",
       "      <td>Alive</td>\n",
       "      <td>9</td>\n",
       "      <td>75.000000</td>\n",
       "      <td>2.839117</td>\n",
       "    </tr>\n",
       "    <tr>\n",
       "      <th>5</th>\n",
       "      <td>Mucinous Carcinoma</td>\n",
       "      <td>Dead</td>\n",
       "      <td>3</td>\n",
       "      <td>25.000000</td>\n",
       "      <td>0.946372</td>\n",
       "    </tr>\n",
       "  </tbody>\n",
       "</table>\n",
       "</div>"
      ],
      "text/plain": [
       "                        Histology Patient_Status  Total  \\\n",
       "0   Infiltrating Ductal Carcinoma          Alive    179   \n",
       "1   Infiltrating Ductal Carcinoma           Dead     45   \n",
       "2  Infiltrating Lobular Carcinoma          Alive     67   \n",
       "3  Infiltrating Lobular Carcinoma           Dead     14   \n",
       "4              Mucinous Carcinoma          Alive      9   \n",
       "5              Mucinous Carcinoma           Dead      3   \n",
       "\n",
       "   Ratio by cancer type (%)  Ratio by total (%)  \n",
       "0                 79.910714           56.466877  \n",
       "1                 20.089286           14.195584  \n",
       "2                 82.716049           21.135647  \n",
       "3                 17.283951            4.416404  \n",
       "4                 75.000000            2.839117  \n",
       "5                 25.000000            0.946372  "
      ]
     },
     "execution_count": 87,
     "metadata": {},
     "output_type": "execute_result"
    }
   ],
   "source": [
    "cancer_types"
   ]
  },
  {
   "cell_type": "markdown",
   "id": "6fb8935f",
   "metadata": {
    "papermill": {
     "duration": 0.103546,
     "end_time": "2021-09-26T15:25:25.895637",
     "exception": false,
     "start_time": "2021-09-26T15:25:25.792091",
     "status": "completed"
    },
    "tags": []
   },
   "source": [
    "Above, we can see the no. of cases of each cancer type, the patient status, and the ratio of status by cancer type as well as total number of cases. "
   ]
  },
  {
   "cell_type": "code",
   "execution_count": 88,
   "id": "8cb6014b",
   "metadata": {
    "execution": {
     "iopub.execute_input": "2021-09-26T15:25:26.107648Z",
     "iopub.status.busy": "2021-09-26T15:25:26.106674Z",
     "iopub.status.idle": "2021-09-26T15:25:26.113141Z",
     "shell.execute_reply": "2021-09-26T15:25:26.113865Z",
     "shell.execute_reply.started": "2021-09-26T15:24:25.841265Z"
    },
    "papermill": {
     "duration": 0.114341,
     "end_time": "2021-09-26T15:25:26.114058",
     "exception": false,
     "start_time": "2021-09-26T15:25:25.999717",
     "status": "completed"
    },
    "tags": []
   },
   "outputs": [],
   "source": [
    "cancer_types_alive = cancer_types.loc[cancer_types['Patient_Status'] == 'Alive'].copy()\n",
    "cancer_types_dead = cancer_types.loc[cancer_types['Patient_Status'] == 'Dead'].copy()"
   ]
  },
  {
   "cell_type": "code",
   "execution_count": 89,
   "id": "b73aeea6",
   "metadata": {
    "execution": {
     "iopub.execute_input": "2021-09-26T15:25:26.336844Z",
     "iopub.status.busy": "2021-09-26T15:25:26.330267Z",
     "iopub.status.idle": "2021-09-26T15:25:26.339731Z",
     "shell.execute_reply": "2021-09-26T15:25:26.339083Z",
     "shell.execute_reply.started": "2021-09-26T15:24:25.851375Z"
    },
    "papermill": {
     "duration": 0.116177,
     "end_time": "2021-09-26T15:25:26.339876",
     "exception": false,
     "start_time": "2021-09-26T15:25:26.223699",
     "status": "completed"
    },
    "tags": []
   },
   "outputs": [],
   "source": [
    "cancer_types_alive.reset_index(inplace = True)\n",
    "cancer_types_alive.drop('index', axis = 1, inplace = True)\n",
    "\n",
    "cancer_types_dead.reset_index(inplace = True)\n",
    "cancer_types_dead.drop('index', axis = 1, inplace = True)"
   ]
  },
  {
   "cell_type": "code",
   "execution_count": 91,
   "id": "4b2f9d2b",
   "metadata": {
    "execution": {
     "iopub.execute_input": "2021-09-26T15:25:26.552266Z",
     "iopub.status.busy": "2021-09-26T15:25:26.551691Z",
     "iopub.status.idle": "2021-09-26T15:25:26.721416Z",
     "shell.execute_reply": "2021-09-26T15:25:26.721924Z",
     "shell.execute_reply.started": "2021-09-26T15:24:25.867128Z"
    },
    "papermill": {
     "duration": 0.277274,
     "end_time": "2021-09-26T15:25:26.722099",
     "exception": false,
     "start_time": "2021-09-26T15:25:26.444825",
     "status": "completed"
    },
    "tags": []
   },
   "outputs": [
    {
     "data": {
      "image/png": "[encoded data removed]",
      "text/plain": [
       "<Figure size 640x480 with 1 Axes>"
      ]
     },
     "metadata": {},
     "output_type": "display_data"
    }
   ],
   "source": [
    "plt.bar(cancer_types_alive['Histology'], cancer_types_alive['Total'], label = 'Patients alive')\n",
    "plt.bar(cancer_types_dead['Histology'], cancer_types_dead['Total'], bottom = cancer_types_alive['Total'], label = 'Patients deceased')\n",
    "\n",
    "plt.xticks(rotation = 60)\n",
    "plt.yticks(np.arange(0, 250, 20))\n",
    "plt.ylabel('No. of cases', fontdict={'fontsize': 10})\n",
    "plt.xlabel('Type of cancer', fontdict={'fontsize': 12})\n",
    "plt.title('Mortality rate by cancer type', fontdict={'fontsize': 10})\n",
    "plt.legend()\n",
    "\n",
    "plt.show()"
   ]
  }
 ],
 "metadata": {
  "kernelspec": {
   "display_name": "Python 3 (ipykernel)",
   "language": "python",
   "name": "python3"
  },
  "language_info": {
   "codemirror_mode": {
    "name": "ipython",
    "version": 3
   },
   "file_extension": ".py",
   "mimetype": "text/x-python",
   "name": "python",
   "nbconvert_exporter": "python",
   "pygments_lexer": "ipython3",
   "version": "3.11.5"
  },
  "papermill": {
   "default_parameters": {},
   "duration": 45.67635,
   "end_time": "2021-09-26T15:25:34.127790",
   "environment_variables": {},
   "exception": null,
   "input_path": "__notebook__.ipynb",
   "output_path": "__notebook__.ipynb",
   "parameters": {},
   "start_time": "2021-09-26T15:24:48.451440",
   "version": "2.3.3"
  }
 },
 "nbformat": 4,
 "nbformat_minor": 5
}
